
# Hotel Reservations - Gradient Boosting Model

## Import Libraries

```python
from sklearn.ensemble import GradientBoostingClassifier
from sklearn.model_selection import train_test_split
from sklearn.metrics import accuracy_score, classification_report
from sklearn.preprocessing import LabelEncoder
import pandas as pd
import matplotlib.pyplot as plt
import seaborn as sns
```

## Load Data

```python
# Load the CSV file into a DataFrame
file_path = 'Hotel Reservations.csv'
df = pd.read_csv(file_path)
```

## Data Preprocessing

```python
# Drop the columns that are not useful for the model
df_model = df.drop(columns=['Booking_ID', 'arrival_year', 'arrival_month', 'arrival_date'])

# Label encode the categorical columns
label_columns = df_model.select_dtypes(include=['object']).columns
label_encoder = LabelEncoder()
for column in label_columns:
    df_model[column] = label_encoder.fit_transform(df[column])
```

## Create Labels for avg_price_per_room

```python
# Create labels for avg_price_per_room
bins = [0, 50, 100, 200, 500, 1000, 5000]
labels = ['0-50', '51-100', '101-200', '201-500', '501-1000', '1001-5000']
df_model['label_avg_price_per_room'] = pd.cut(df_model['avg_price_per_room'], bins=bins, labels=labels, right=False)
```

## Train-Test Split

```python
# Split the data into training and test sets
X = df_model.drop(columns=['avg_price_per_room', 'label_avg_price_per_room'])
y = df_model['label_avg_price_per_room']
X_train, X_test, y_train, y_test = train_test_split(X, y, test_size=0.2, random_state=42)
```

## Initialize and Train Gradient Boosting Model

```python
# Initialize and train the Gradient Boosting model
gb_model = GradientBoostingClassifier(n_estimators=100, learning_rate=0.1, max_depth=3, random_state=42)
gb_model.fit(X_train, y_train)
```

## Model Evaluation

```python
# Predictions and Evaluation
y_pred = gb_model.predict(X_test)
accuracy = accuracy_score(y_test, y_pred)
classification_rep = classification_report(y_test, y_pred, target_names=labels)
```

## Results

- Acurácia: Aproximadamente 74.43%
- Relatório de Classificação: (See Above)
